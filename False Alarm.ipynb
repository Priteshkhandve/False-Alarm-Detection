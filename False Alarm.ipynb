{
 "cells": [
  {
   "cell_type": "code",
   "execution_count": null,
   "id": "9b4ceb4d",
   "metadata": {},
   "outputs": [],
   "source": [
    "from flask import Flask,request\n",
    "import pandas as pd\n",
    "import numpy as np\n",
    "import seaborn as sns\n",
    "from sklearn.linear_model import LogisticRegression\n",
    "import joblib"
   ]
  },
  {
   "cell_type": "code",
   "execution_count": null,
   "id": "cb05a2ce",
   "metadata": {},
   "outputs": [],
   "source": [
    "app = Flask(__name__)"
   ]
  },
  {
   "cell_type": "code",
   "execution_count": null,
   "id": "d8b48e11",
   "metadata": {},
   "outputs": [],
   "source": [
    "@app.route('/train')\n",
    "def train():\n",
    "    try:\n",
    "        df = pd.read_excel(\"C:\\\\Users\\\\prite\\\\Downloads\\\\Chemical_Industry\\\\Historical Alarm Cases.xlsx\")\n",
    "        df.drop(['Case No.','Unnamed: 8', 'Unnamed: 9', 'Unnamed: 10'], axis = 1, inplace = True)\n",
    "        x = df.drop('Spuriosity_Index(0/1)',axis = 1)\n",
    "        y = df['Spuriosity_Index(0/1)']\n",
    "        lm = LogisticRegression()\n",
    "        lm.fit(x,y)\n",
    "        joblib.dump(lm,'training_result.pkl')\n",
    "        return\"Model trained succesfully...\"\n",
    "    except:\n",
    "        return\"Data file not found issue\"\n",
    "        \n",
    "    "
   ]
  },
  {
   "cell_type": "code",
   "execution_count": null,
   "id": "4006aa80",
   "metadata": {},
   "outputs": [],
   "source": [
    "@app.route('/predict',methods = {'POST'})\n",
    "def predict():\n",
    "    pickle_file = joblib.dump('training_result.pkl')\n",
    "    data = request.get_json()\n",
    "    fields = data['Ambient Temperatur'],\n",
    "    data['Calibration'],\n",
    "    data['Unwanted substance deposition'],\n",
    "    data['Humidity'],\n",
    "    data['H2S Content'],\n",
    "    data['detected by']\n",
    "    fields = np.array(fields)\n",
    "    fields = fields.reshape(1,6)\n",
    "    rec = pd.DataFrame(data=fields,columns=['Ambient Temperatur','Calibration','Unwanted substance deposition','Humidity','H2S Content','detected by'])\n",
    "    pred = picklefile.predict(rec)\n",
    "    \n",
    "    if pred == 1:\n",
    "        return 'False Alarm'\n",
    "    else:\n",
    "        return 'True Alarm'\n",
    "    \n",
    "    \n",
    "    \n",
    "    "
   ]
  },
  {
   "cell_type": "code",
   "execution_count": null,
   "id": "08ad52d4",
   "metadata": {},
   "outputs": [],
   "source": [
    "app.run(port=5001)"
   ]
  }
 ],
 "metadata": {
  "kernelspec": {
   "display_name": "Python 3 (ipykernel)",
   "language": "python",
   "name": "python3"
  },
  "language_info": {
   "codemirror_mode": {
    "name": "ipython",
    "version": 3
   },
   "file_extension": ".py",
   "mimetype": "text/x-python",
   "name": "python",
   "nbconvert_exporter": "python",
   "pygments_lexer": "ipython3",
   "version": "3.9.12"
  }
 },
 "nbformat": 4,
 "nbformat_minor": 5
}
